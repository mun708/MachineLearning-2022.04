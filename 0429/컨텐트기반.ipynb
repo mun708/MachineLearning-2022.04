{
  "nbformat": 4,
  "nbformat_minor": 0,
  "metadata": {
    "colab": {
      "name": "컨텐트기반.ipynb",
      "provenance": [],
      "collapsed_sections": []
    },
    "kernelspec": {
      "name": "python3",
      "display_name": "Python 3"
    },
    "language_info": {
      "name": "python"
    }
  },
  "cells": [
    {
      "cell_type": "markdown",
      "source": [
        "# 컨텐츠 기반 필터링(Content-based Filtering)"
      ],
      "metadata": {
        "id": "ITpCJZuCF5ov"
      }
    },
    {
      "cell_type": "code",
      "source": [
        "import numpy as np\n",
        "import pandas as pd"
      ],
      "metadata": {
        "id": "oBnl6wRCI10_"
      },
      "execution_count": 69,
      "outputs": []
    },
    {
      "cell_type": "code",
      "source": [
        "!pip install surprise"
      ],
      "metadata": {
        "colab": {
          "base_uri": "https://localhost:8080/"
        },
        "id": "s0CWlpZGJdFH",
        "outputId": "01fed718-6e04-44f3-bbfa-ad26f77d72f7"
      },
      "execution_count": 70,
      "outputs": [
        {
          "output_type": "stream",
          "name": "stdout",
          "text": [
            "Requirement already satisfied: surprise in /usr/local/lib/python3.7/dist-packages (0.1)\n",
            "Requirement already satisfied: scikit-surprise in /usr/local/lib/python3.7/dist-packages (from surprise) (1.1.1)\n",
            "Requirement already satisfied: numpy>=1.11.2 in /usr/local/lib/python3.7/dist-packages (from scikit-surprise->surprise) (1.21.6)\n",
            "Requirement already satisfied: six>=1.10.0 in /usr/local/lib/python3.7/dist-packages (from scikit-surprise->surprise) (1.15.0)\n",
            "Requirement already satisfied: joblib>=0.11 in /usr/local/lib/python3.7/dist-packages (from scikit-surprise->surprise) (1.1.0)\n",
            "Requirement already satisfied: scipy>=1.0.0 in /usr/local/lib/python3.7/dist-packages (from scikit-surprise->surprise) (1.4.1)\n"
          ]
        }
      ]
    },
    {
      "cell_type": "code",
      "source": [
        "from surprise import Dataset\n",
        "data = Dataset.load_builtin('ml-100k', prompt=False)\n",
        "df = pd.DataFrame(data.raw_ratings, columns=['user-id','movie-id','rating','timestamp'])\n",
        "df.head()"
      ],
      "metadata": {
        "colab": {
          "base_uri": "https://localhost:8080/",
          "height": 206
        },
        "id": "clqDE1diI3xf",
        "outputId": "3b5ad9bf-6b18-4436-cbd8-7b5d3f0d0259"
      },
      "execution_count": 71,
      "outputs": [
        {
          "output_type": "execute_result",
          "data": {
            "text/plain": [
              "  user-id movie-id  rating  timestamp\n",
              "0     196      242     3.0  881250949\n",
              "1     186      302     3.0  891717742\n",
              "2      22      377     1.0  878887116\n",
              "3     244       51     2.0  880606923\n",
              "4     166      346     1.0  886397596"
            ],
            "text/html": [
              "\n",
              "  <div id=\"df-96629c5a-ffeb-411a-b72b-2985727758f6\">\n",
              "    <div class=\"colab-df-container\">\n",
              "      <div>\n",
              "<style scoped>\n",
              "    .dataframe tbody tr th:only-of-type {\n",
              "        vertical-align: middle;\n",
              "    }\n",
              "\n",
              "    .dataframe tbody tr th {\n",
              "        vertical-align: top;\n",
              "    }\n",
              "\n",
              "    .dataframe thead th {\n",
              "        text-align: right;\n",
              "    }\n",
              "</style>\n",
              "<table border=\"1\" class=\"dataframe\">\n",
              "  <thead>\n",
              "    <tr style=\"text-align: right;\">\n",
              "      <th></th>\n",
              "      <th>user-id</th>\n",
              "      <th>movie-id</th>\n",
              "      <th>rating</th>\n",
              "      <th>timestamp</th>\n",
              "    </tr>\n",
              "  </thead>\n",
              "  <tbody>\n",
              "    <tr>\n",
              "      <th>0</th>\n",
              "      <td>196</td>\n",
              "      <td>242</td>\n",
              "      <td>3.0</td>\n",
              "      <td>881250949</td>\n",
              "    </tr>\n",
              "    <tr>\n",
              "      <th>1</th>\n",
              "      <td>186</td>\n",
              "      <td>302</td>\n",
              "      <td>3.0</td>\n",
              "      <td>891717742</td>\n",
              "    </tr>\n",
              "    <tr>\n",
              "      <th>2</th>\n",
              "      <td>22</td>\n",
              "      <td>377</td>\n",
              "      <td>1.0</td>\n",
              "      <td>878887116</td>\n",
              "    </tr>\n",
              "    <tr>\n",
              "      <th>3</th>\n",
              "      <td>244</td>\n",
              "      <td>51</td>\n",
              "      <td>2.0</td>\n",
              "      <td>880606923</td>\n",
              "    </tr>\n",
              "    <tr>\n",
              "      <th>4</th>\n",
              "      <td>166</td>\n",
              "      <td>346</td>\n",
              "      <td>1.0</td>\n",
              "      <td>886397596</td>\n",
              "    </tr>\n",
              "  </tbody>\n",
              "</table>\n",
              "</div>\n",
              "      <button class=\"colab-df-convert\" onclick=\"convertToInteractive('df-96629c5a-ffeb-411a-b72b-2985727758f6')\"\n",
              "              title=\"Convert this dataframe to an interactive table.\"\n",
              "              style=\"display:none;\">\n",
              "        \n",
              "  <svg xmlns=\"http://www.w3.org/2000/svg\" height=\"24px\"viewBox=\"0 0 24 24\"\n",
              "       width=\"24px\">\n",
              "    <path d=\"M0 0h24v24H0V0z\" fill=\"none\"/>\n",
              "    <path d=\"M18.56 5.44l.94 2.06.94-2.06 2.06-.94-2.06-.94-.94-2.06-.94 2.06-2.06.94zm-11 1L8.5 8.5l.94-2.06 2.06-.94-2.06-.94L8.5 2.5l-.94 2.06-2.06.94zm10 10l.94 2.06.94-2.06 2.06-.94-2.06-.94-.94-2.06-.94 2.06-2.06.94z\"/><path d=\"M17.41 7.96l-1.37-1.37c-.4-.4-.92-.59-1.43-.59-.52 0-1.04.2-1.43.59L10.3 9.45l-7.72 7.72c-.78.78-.78 2.05 0 2.83L4 21.41c.39.39.9.59 1.41.59.51 0 1.02-.2 1.41-.59l7.78-7.78 2.81-2.81c.8-.78.8-2.07 0-2.86zM5.41 20L4 18.59l7.72-7.72 1.47 1.35L5.41 20z\"/>\n",
              "  </svg>\n",
              "      </button>\n",
              "      \n",
              "  <style>\n",
              "    .colab-df-container {\n",
              "      display:flex;\n",
              "      flex-wrap:wrap;\n",
              "      gap: 12px;\n",
              "    }\n",
              "\n",
              "    .colab-df-convert {\n",
              "      background-color: #E8F0FE;\n",
              "      border: none;\n",
              "      border-radius: 50%;\n",
              "      cursor: pointer;\n",
              "      display: none;\n",
              "      fill: #1967D2;\n",
              "      height: 32px;\n",
              "      padding: 0 0 0 0;\n",
              "      width: 32px;\n",
              "    }\n",
              "\n",
              "    .colab-df-convert:hover {\n",
              "      background-color: #E2EBFA;\n",
              "      box-shadow: 0px 1px 2px rgba(60, 64, 67, 0.3), 0px 1px 3px 1px rgba(60, 64, 67, 0.15);\n",
              "      fill: #174EA6;\n",
              "    }\n",
              "\n",
              "    [theme=dark] .colab-df-convert {\n",
              "      background-color: #3B4455;\n",
              "      fill: #D2E3FC;\n",
              "    }\n",
              "\n",
              "    [theme=dark] .colab-df-convert:hover {\n",
              "      background-color: #434B5C;\n",
              "      box-shadow: 0px 1px 3px 1px rgba(0, 0, 0, 0.15);\n",
              "      filter: drop-shadow(0px 1px 2px rgba(0, 0, 0, 0.3));\n",
              "      fill: #FFFFFF;\n",
              "    }\n",
              "  </style>\n",
              "\n",
              "      <script>\n",
              "        const buttonEl =\n",
              "          document.querySelector('#df-96629c5a-ffeb-411a-b72b-2985727758f6 button.colab-df-convert');\n",
              "        buttonEl.style.display =\n",
              "          google.colab.kernel.accessAllowed ? 'block' : 'none';\n",
              "\n",
              "        async function convertToInteractive(key) {\n",
              "          const element = document.querySelector('#df-96629c5a-ffeb-411a-b72b-2985727758f6');\n",
              "          const dataTable =\n",
              "            await google.colab.kernel.invokeFunction('convertToInteractive',\n",
              "                                                     [key], {});\n",
              "          if (!dataTable) return;\n",
              "\n",
              "          const docLinkHtml = 'Like what you see? Visit the ' +\n",
              "            '<a target=\"_blank\" href=https://colab.research.google.com/notebooks/data_table.ipynb>data table notebook</a>'\n",
              "            + ' to learn more about interactive tables.';\n",
              "          element.innerHTML = '';\n",
              "          dataTable['output_type'] = 'display_data';\n",
              "          await google.colab.output.renderOutput(dataTable, element);\n",
              "          const docLink = document.createElement('div');\n",
              "          docLink.innerHTML = docLinkHtml;\n",
              "          element.appendChild(docLink);\n",
              "        }\n",
              "      </script>\n",
              "    </div>\n",
              "  </div>\n",
              "  "
            ]
          },
          "metadata": {},
          "execution_count": 71
        }
      ]
    },
    {
      "cell_type": "code",
      "source": [
        "df.shape"
      ],
      "metadata": {
        "colab": {
          "base_uri": "https://localhost:8080/"
        },
        "id": "JTczUD79JauF",
        "outputId": "6f2778b8-964a-4d0e-ebf1-3539679b0d37"
      },
      "execution_count": 72,
      "outputs": [
        {
          "output_type": "execute_result",
          "data": {
            "text/plain": [
              "(100000, 4)"
            ]
          },
          "metadata": {},
          "execution_count": 72
        }
      ]
    },
    {
      "cell_type": "markdown",
      "source": [
        "### 1. Adjacent Matrix 생성\n",
        "  - 행은 사용자\n",
        "  - 열은 영화\n",
        "  - 내용은 평점"
      ],
      "metadata": {
        "id": "JV4SptFkJ1cH"
      }
    },
    {
      "cell_type": "code",
      "source": [
        "raw_data = np.array(data.raw_ratings,dtype=int)\n",
        "np.min(raw_data,axis=0)"
      ],
      "metadata": {
        "colab": {
          "base_uri": "https://localhost:8080/"
        },
        "id": "8jiPmsd0K0TE",
        "outputId": "edc31cc9-fa91-455d-8a84-2b9e68500b5f"
      },
      "execution_count": 73,
      "outputs": [
        {
          "output_type": "execute_result",
          "data": {
            "text/plain": [
              "array([        1,         1,         1, 874724710])"
            ]
          },
          "metadata": {},
          "execution_count": 73
        }
      ]
    },
    {
      "cell_type": "code",
      "source": [
        "np.max(raw_data,axis=0)"
      ],
      "metadata": {
        "colab": {
          "base_uri": "https://localhost:8080/"
        },
        "id": "DZ2l5uRMKUtm",
        "outputId": "d610c259-138e-4e6a-aea3-c0f1174c2f73"
      },
      "execution_count": 74,
      "outputs": [
        {
          "output_type": "execute_result",
          "data": {
            "text/plain": [
              "array([      943,      1682,         5, 893286638])"
            ]
          },
          "metadata": {},
          "execution_count": 74
        }
      ]
    },
    {
      "cell_type": "code",
      "source": [
        "#user-id, movie-id가 0부터 시작하도록 만들어 줌\n",
        "raw_data[:,:2] -= 1\n",
        "raw_data[:5]"
      ],
      "metadata": {
        "colab": {
          "base_uri": "https://localhost:8080/"
        },
        "id": "Ch6E1Sd1LTJs",
        "outputId": "52a83db8-1e12-4e48-962d-31d113bb4f52"
      },
      "execution_count": 75,
      "outputs": [
        {
          "output_type": "execute_result",
          "data": {
            "text/plain": [
              "array([[      195,       241,         3, 881250949],\n",
              "       [      185,       301,         3, 891717742],\n",
              "       [       21,       376,         1, 878887116],\n",
              "       [      243,        50,         2, 880606923],\n",
              "       [      165,       345,         1, 886397596]])"
            ]
          },
          "metadata": {},
          "execution_count": 75
        }
      ]
    },
    {
      "cell_type": "code",
      "source": [
        "#행, 열의 갯수\n",
        "nrows = df['user-id'].nunique() # 행의 갯수 = 사용자의 수\n",
        "ncols = df['movie-id'].nunique() # 열의 갯수 = 영화의 갯수\n",
        "#에러남 np.nunique(raw_data[:,0]),np.unique(raw_data[:,1])\n",
        "nrows,ncols"
      ],
      "metadata": {
        "colab": {
          "base_uri": "https://localhost:8080/"
        },
        "id": "aXrBvlt0L1eP",
        "outputId": "9da17ace-3f3f-40ae-ccd9-6c1c3e540095"
      },
      "execution_count": 76,
      "outputs": [
        {
          "output_type": "execute_result",
          "data": {
            "text/plain": [
              "(943, 1682)"
            ]
          },
          "metadata": {},
          "execution_count": 76
        }
      ]
    },
    {
      "cell_type": "markdown",
      "source": [
        "#### 1. 본 영화/안본 영화로만 구분, 0/1"
      ],
      "metadata": {
        "id": "OkrQ4htTMgyJ"
      }
    },
    {
      "cell_type": "code",
      "source": [
        "# 본 영화는 1, 안 본 영화는 0\n",
        "adj_matrix = np.zeros([nrows,ncols],int)\n",
        "for user_id, movie_id, _, _ in raw_data:\n",
        "  adj_matrix[user_id,movie_id] = 1\n",
        "adj_matrix[:5]"
      ],
      "metadata": {
        "colab": {
          "base_uri": "https://localhost:8080/"
        },
        "id": "Ov2ZQr5NM9oz",
        "outputId": "2aae7f55-8d3f-4b7f-8b9d-576c65494405"
      },
      "execution_count": 77,
      "outputs": [
        {
          "output_type": "execute_result",
          "data": {
            "text/plain": [
              "array([[1, 1, 1, ..., 0, 0, 0],\n",
              "       [1, 0, 0, ..., 0, 0, 0],\n",
              "       [0, 0, 0, ..., 0, 0, 0],\n",
              "       [0, 0, 0, ..., 0, 0, 0],\n",
              "       [1, 1, 0, ..., 0, 0, 0]])"
            ]
          },
          "metadata": {},
          "execution_count": 77
        }
      ]
    },
    {
      "cell_type": "markdown",
      "source": [
        ""
      ],
      "metadata": {
        "id": "Y_qh81rxNduI"
      }
    },
    {
      "cell_type": "code",
      "source": [
        "# 0번 데이터를 나라고 함\n",
        "my_id, my_vector = 0, adj_matrix[0]\n",
        "\n"
      ],
      "metadata": {
        "id": "BekB2EgWexjm"
      },
      "execution_count": 78,
      "outputs": []
    },
    {
      "cell_type": "code",
      "source": [
        "# 유사도 - 이진 벡터의 내적\n",
        "# 나와 10번 사용자와의 유사도\n",
        "np.dot(my_vector, adj_matrix[10]),np.dot(my_vector, adj_matrix[20])"
      ],
      "metadata": {
        "colab": {
          "base_uri": "https://localhost:8080/"
        },
        "id": "uoSy_9qlezOS",
        "outputId": "9f9d975f-bd4c-43a6-fa04-8fcbaae275e7"
      },
      "execution_count": 79,
      "outputs": [
        {
          "output_type": "execute_result",
          "data": {
            "text/plain": [
              "(71, 42)"
            ]
          },
          "metadata": {},
          "execution_count": 79
        }
      ]
    },
    {
      "cell_type": "code",
      "source": [
        "# 누가 나랑 닮았나?\n",
        "best_score, best_match_id = 0, 0\n",
        "for i in range(1, len(adj_matrix)):\n",
        "  dot = np.dot(my_vector, adj_matrix[i])\n",
        "  if dot > best_score:\n",
        "    best_score, best_match_id = dot, i\n",
        "best_score, best_match_id"
      ],
      "metadata": {
        "colab": {
          "base_uri": "https://localhost:8080/"
        },
        "id": "Klmp_uKpe85g",
        "outputId": "67436117-ad99-433e-9d88-b77d665c3a37"
      },
      "execution_count": 80,
      "outputs": [
        {
          "output_type": "execute_result",
          "data": {
            "text/plain": [
              "(183, 275)"
            ]
          },
          "metadata": {},
          "execution_count": 80
        }
      ]
    },
    {
      "cell_type": "code",
      "source": [
        "best_vector = adj_matrix[best_match_id]\n",
        "my_vector[200:210],best_vector[200:210]"
      ],
      "metadata": {
        "colab": {
          "base_uri": "https://localhost:8080/"
        },
        "id": "4t-U9LOZfvFl",
        "outputId": "b6f065f0-0bd8-4c87-9ecd-6f791582693d"
      },
      "execution_count": 81,
      "outputs": [
        {
          "output_type": "execute_result",
          "data": {
            "text/plain": [
              "(array([1, 1, 1, 1, 1, 1, 1, 1, 1, 1]), array([1, 1, 1, 1, 0, 1, 1, 0, 1, 1]))"
            ]
          },
          "metadata": {},
          "execution_count": 81
        }
      ]
    },
    {
      "cell_type": "code",
      "source": [
        "#내가 보지 않은 영화 중에서 best_match 사용자가 본 영화 -->추천\n",
        "recommend_list = []\n",
        "for i, (my_view, best_match_view) in enumerate(zip(my_vector,best_vector)):\n",
        "  if my_view == 0 and best_match_view == 1: ###\n",
        "    recommend_list.append(i)\n",
        "\n",
        "len(recommend_list), recommend_list[:10]"
      ],
      "metadata": {
        "colab": {
          "base_uri": "https://localhost:8080/"
        },
        "id": "TSMRnnI7gNgR",
        "outputId": "fc668f59-b6ef-4071-b8a7-a4956269a654"
      },
      "execution_count": 82,
      "outputs": [
        {
          "output_type": "execute_result",
          "data": {
            "text/plain": [
              "(335, [272, 273, 275, 280, 281, 283, 287, 288, 289, 290])"
            ]
          },
          "metadata": {},
          "execution_count": 82
        }
      ]
    },
    {
      "cell_type": "markdown",
      "source": [
        "### 2. 평점 점수를 주는 경우"
      ],
      "metadata": {
        "id": "Qpop_-nQgaqE"
      }
    },
    {
      "cell_type": "code",
      "source": [
        "adj_matrix = np.zeros([nrows,ncols], int)\n",
        "for user_id, movie_id, rating, _ in raw_data:\n",
        "  adj_matrix[user_id, movie_id] = rating\n",
        "adj_matrix[:5]"
      ],
      "metadata": {
        "colab": {
          "base_uri": "https://localhost:8080/"
        },
        "id": "j3rKg9ZuhXNC",
        "outputId": "1eebcfe7-7ce4-493b-fae6-2de4f5140a9b"
      },
      "execution_count": 83,
      "outputs": [
        {
          "output_type": "execute_result",
          "data": {
            "text/plain": [
              "array([[5, 3, 4, ..., 0, 0, 0],\n",
              "       [4, 0, 0, ..., 0, 0, 0],\n",
              "       [0, 0, 0, ..., 0, 0, 0],\n",
              "       [0, 0, 0, ..., 0, 0, 0],\n",
              "       [4, 3, 0, ..., 0, 0, 0]])"
            ]
          },
          "metadata": {},
          "execution_count": 83
        }
      ]
    },
    {
      "cell_type": "markdown",
      "source": [
        "- Case 1: 유클리드 거리"
      ],
      "metadata": {
        "id": "eK32pqddhnD6"
      }
    },
    {
      "cell_type": "code",
      "source": [
        "# 누가 나랑 닮았나?\n",
        "best_score, best_match_id = 100000, 0\n",
        "my_vector = adj_matrix[0]\n",
        "\n",
        "for i in range(1, len(adj_matrix)):\n",
        "  euc = np.sqrt(np.sum(np.square(my_vector - adj_matrix[i])))\n",
        "  if euc < best_score:\n",
        "    best_score, best_match_id = euc, i\n",
        "best_score, best_match_id"
      ],
      "metadata": {
        "colab": {
          "base_uri": "https://localhost:8080/"
        },
        "id": "HDStlu02hxQ2",
        "outputId": "52d223f4-71ff-4e11-f781-e41bcf0b83ec"
      },
      "execution_count": 84,
      "outputs": [
        {
          "output_type": "execute_result",
          "data": {
            "text/plain": [
              "(55.06359959174482, 737)"
            ]
          },
          "metadata": {},
          "execution_count": 84
        }
      ]
    },
    {
      "cell_type": "code",
      "source": [
        "# 내가 보지 않은 영화중에서 best_match 사용자가 본 영화 -->추천\n",
        "best_vector = adj_matrix[best_match_id]\n",
        "recommend_list = []\n",
        "for i, (my_view, best_match_view) in enumerate(zip(my_vector,best_vector)):\n",
        "  if my_view == 0 and best_match_view >= 1: \n",
        "    recommend_list.append(i)\n",
        "\n",
        "len(recommend_list), recommend_list[:10]"
      ],
      "metadata": {
        "colab": {
          "base_uri": "https://localhost:8080/"
        },
        "id": "I9FTHUriiV1U",
        "outputId": "31e68800-9881-4640-8110-216da4123e45"
      },
      "execution_count": 85,
      "outputs": [
        {
          "output_type": "execute_result",
          "data": {
            "text/plain": [
              "(48, [297, 312, 317, 342, 356, 366, 379, 384, 392, 402])"
            ]
          },
          "metadata": {},
          "execution_count": 85
        }
      ]
    },
    {
      "cell_type": "code",
      "source": [
        "# 내가 보지 않은 영화중에서 best_match 사용자가 본 평점이 좋은 영화 -->추천\n",
        "best_vector = adj_matrix[best_match_id]\n",
        "recommend_list = []\n",
        "for i, (my_view, best_match_view) in enumerate(zip(my_vector,best_vector)):\n",
        "  if my_view == 0 and best_match_view >= 5: \n",
        "    recommend_list.append(i)\n",
        "\n",
        "len(recommend_list), recommend_list[:10]"
      ],
      "metadata": {
        "colab": {
          "base_uri": "https://localhost:8080/"
        },
        "id": "SJRqJTWTkSDf",
        "outputId": "ea69785a-1ed9-43f1-dbb6-983fcc78e7e3"
      },
      "execution_count": 86,
      "outputs": [
        {
          "output_type": "execute_result",
          "data": {
            "text/plain": [
              "(6, [312, 317, 384, 407, 526, 602])"
            ]
          },
          "metadata": {},
          "execution_count": 86
        }
      ]
    },
    {
      "cell_type": "markdown",
      "source": [
        "- Case 2: 코사인유사도"
      ],
      "metadata": {
        "id": "QFvyIHWpli6D"
      }
    },
    {
      "cell_type": "code",
      "source": [
        "def cos_similarity(v1,v2):\n",
        "  v1_norm = np.sqrt(np.sum(np.square(v1)))\n",
        "  v2_norm = np.sqrt(np.sum(np.square(v2)))\n",
        "  return np.dot(v1,v2) / (v1_norm * v2_norm)"
      ],
      "metadata": {
        "id": "62KwjoK0l1iY"
      },
      "execution_count": 87,
      "outputs": []
    },
    {
      "cell_type": "code",
      "source": [
        "# 누가 나랑 닮았나?\n",
        "best_score, best_match_id = -1, 0\n",
        "my_vector = adj_matrix[0]\n",
        "\n",
        "for i in range(1, len(adj_matrix)):\n",
        "  cos_sim = cos_similarity(my_vector, adj_matrix[i])\n",
        "  if cos_sim > best_score:\n",
        "    best_score, best_match_id = cos_sim, i\n",
        "best_score, best_match_id"
      ],
      "metadata": {
        "colab": {
          "base_uri": "https://localhost:8080/"
        },
        "id": "q2xsG8EWmNLl",
        "outputId": "2fe33498-0704-4260-c33e-580b84ae250a"
      },
      "execution_count": 89,
      "outputs": [
        {
          "output_type": "execute_result",
          "data": {
            "text/plain": [
              "(0.569065731527988, 915)"
            ]
          },
          "metadata": {},
          "execution_count": 89
        }
      ]
    },
    {
      "cell_type": "code",
      "source": [
        "best_vector = adj_matrix[best_match_id]\n",
        "recommend_list = []\n",
        "for i, (my_view, best_match_view) in enumerate(zip(my_vector,best_vector)):\n",
        "  if my_view == 0 and best_match_view >= 4: \n",
        "    recommend_list.append(i)\n",
        "\n",
        "len(recommend_list), recommend_list[:10]"
      ],
      "metadata": {
        "colab": {
          "base_uri": "https://localhost:8080/"
        },
        "id": "7HFw2Bosmjdz",
        "outputId": "4fa48c71-c0a6-4789-a151-61004aebe9ba"
      },
      "execution_count": 91,
      "outputs": [
        {
          "output_type": "execute_result",
          "data": {
            "text/plain": [
              "(58, [275, 285, 316, 317, 381, 386, 420, 424, 426, 427])"
            ]
          },
          "metadata": {},
          "execution_count": 91
        }
      ]
    },
    {
      "cell_type": "code",
      "source": [
        ""
      ],
      "metadata": {
        "id": "m9fwSUkDmt00"
      },
      "execution_count": null,
      "outputs": []
    }
  ]
}