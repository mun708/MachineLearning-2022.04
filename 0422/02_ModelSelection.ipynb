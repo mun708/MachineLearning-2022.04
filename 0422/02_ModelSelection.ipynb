{
  "nbformat": 4,
  "nbformat_minor": 0,
  "metadata": {
    "colab": {
      "name": "02. ModelSelection",
      "provenance": []
    },
    "kernelspec": {
      "name": "python3",
      "display_name": "Python 3"
    },
    "language_info": {
      "name": "python"
    }
  },
  "cells": [
    {
      "cell_type": "markdown",
      "source": [
        "# Model Selection 모듈"
      ],
      "metadata": {
        "id": "IT0gLd0HuxbV"
      }
    },
    {
      "cell_type": "code",
      "source": [
        "from sklearn.datasets import load_iris\n",
        "from sklearn.tree import DecisionTreeClassifier"
      ],
      "metadata": {
        "id": "CtgEWXzZu5AY"
      },
      "execution_count": 1,
      "outputs": []
    },
    {
      "cell_type": "code",
      "source": [
        "iris = load_iris()\n",
        "dtc = DecisionTreeClassifier(random_state=2022)\n",
        "dtc.fit(iris.data,iris.target)\n",
        "dtc.score(iris.data,iris.target)\n",
        "#1.0 훈련데이터를 다 공부했기 때문에 암기실력 검증하는 꼴이니까 정확도가 1.0이나 나옴\n"
      ],
      "metadata": {
        "colab": {
          "base_uri": "https://localhost:8080/"
        },
        "id": "cweYitCLvWDr",
        "outputId": "bd1829d5-596b-4df6-e2e7-dfc4944ea22a"
      },
      "execution_count": 3,
      "outputs": [
        {
          "output_type": "execute_result",
          "data": {
            "text/plain": [
              "1.0"
            ]
          },
          "metadata": {},
          "execution_count": 3
        }
      ]
    },
    {
      "cell_type": "markdown",
      "source": [
        "- 교차 검증 : cross_validate() + 평가\n",
        "- 교차 검증 후 평가 : corss_val_score()"
      ],
      "metadata": {
        "id": "2qQBUdAavqPK"
      }
    },
    {
      "cell_type": "code",
      "source": [
        "from sklearn.model_selection import cross_val_score\n",
        "cross_val_score(dtc, iris.data,iris.target,scoring ='accuracy',cv = 5) #모델, x, y cv=cross validate"
      ],
      "metadata": {
        "colab": {
          "base_uri": "https://localhost:8080/"
        },
        "id": "_GpcQPlcyT0s",
        "outputId": "cb8d84b9-25e3-4e28-9615-85ce7cd20d53"
      },
      "execution_count": 4,
      "outputs": [
        {
          "output_type": "execute_result",
          "data": {
            "text/plain": [
              "array([0.96666667, 0.96666667, 0.9       , 0.93333333, 1.        ])"
            ]
          },
          "metadata": {},
          "execution_count": 4
        }
      ]
    },
    {
      "cell_type": "code",
      "source": [
        "cross_val_score(dtc,iris.data,iris.target,scoring='accuracy',cv=5).mean()"
      ],
      "metadata": {
        "colab": {
          "base_uri": "https://localhost:8080/"
        },
        "id": "tNeKOR5Yyxnq",
        "outputId": "e8e98b19-4c7e-44e0-abb4-ee3cd9ad68f6"
      },
      "execution_count": 5,
      "outputs": [
        {
          "output_type": "execute_result",
          "data": {
            "text/plain": [
              "0.9533333333333334"
            ]
          },
          "metadata": {},
          "execution_count": 5
        }
      ]
    },
    {
      "cell_type": "markdown",
      "source": [
        ""
      ],
      "metadata": {
        "id": "-5Liv_fR39Q5"
      }
    },
    {
      "cell_type": "code",
      "source": [
        "# Train/ Tst dataset 분리\n",
        "from sklearn.model_selection import train_test_split\n",
        "X_train,X_test,y_train, y_test = train_test_split(\n",
        "    iris.data, iris.target, stratify = iris.target, test_size=0.2, random_state=2022\n",
        ")"
      ],
      "metadata": {
        "id": "Swg_jyAX4F_X"
      },
      "execution_count": 7,
      "outputs": []
    },
    {
      "cell_type": "code",
      "source": [
        "# 분류기와 그에 해당하는 하이퍼 파라미터\n",
        "dtc = DecisionTreeClassifier(random_state=2022)\n",
        "dtc.get_params()"
      ],
      "metadata": {
        "colab": {
          "base_uri": "https://localhost:8080/"
        },
        "id": "i-A3aD2w4cF_",
        "outputId": "82773857-c6f3-44fb-c8f4-2a81e426c95c"
      },
      "execution_count": 8,
      "outputs": [
        {
          "output_type": "execute_result",
          "data": {
            "text/plain": [
              "{'ccp_alpha': 0.0,\n",
              " 'class_weight': None,\n",
              " 'criterion': 'gini',\n",
              " 'max_depth': None,\n",
              " 'max_features': None,\n",
              " 'max_leaf_nodes': None,\n",
              " 'min_impurity_decrease': 0.0,\n",
              " 'min_samples_leaf': 1,\n",
              " 'min_samples_split': 2,\n",
              " 'min_weight_fraction_leaf': 0.0,\n",
              " 'random_state': 2022,\n",
              " 'splitter': 'best'}"
            ]
          },
          "metadata": {},
          "execution_count": 8
        }
      ]
    },
    {
      "cell_type": "code",
      "source": [
        "params = {\n",
        "    'max_depth':[2,3,4,5,6],\n",
        "    'min_samples_split':[2,3,4]\n",
        "}"
      ],
      "metadata": {
        "id": "Hl5UkjjYzM1y"
      },
      "execution_count": 9,
      "outputs": []
    },
    {
      "cell_type": "code",
      "source": [
        "from sklearn.model_selection import GridSearchCV\n",
        "\n",
        "grid_dt = GridSearchCV(\n",
        "    dtc, param_grid = params, scoring = 'accuracy', cv=5\n",
        ")"
      ],
      "metadata": {
        "id": "4SxxMK06zOaf"
      },
      "execution_count": 10,
      "outputs": []
    },
    {
      "cell_type": "code",
      "source": [
        "grid_dt.fit(X_train, y_train)"
      ],
      "metadata": {
        "colab": {
          "base_uri": "https://localhost:8080/"
        },
        "id": "1A0JPvmuzRGp",
        "outputId": "8f59a8ea-2fb6-4779-d32f-2784e41f1e6c"
      },
      "execution_count": 11,
      "outputs": [
        {
          "output_type": "execute_result",
          "data": {
            "text/plain": [
              "GridSearchCV(cv=5, estimator=DecisionTreeClassifier(random_state=2022),\n",
              "             param_grid={'max_depth': [2, 3, 4, 5, 6],\n",
              "                         'min_samples_split': [2, 3, 4]},\n",
              "             scoring='accuracy')"
            ]
          },
          "metadata": {},
          "execution_count": 11
        }
      ]
    },
    {
      "cell_type": "code",
      "source": [
        "# 베스트 파라미터\n",
        "grid_dt.best_params_ #params_:언더바 나오는 것은 뭔가를 하고 나서 제공해주는 게 있을 때"
      ],
      "metadata": {
        "colab": {
          "base_uri": "https://localhost:8080/"
        },
        "id": "BpsuxiyDzRL3",
        "outputId": "102047dc-4846-4769-840e-bcd4db094c6c"
      },
      "execution_count": 12,
      "outputs": [
        {
          "output_type": "execute_result",
          "data": {
            "text/plain": [
              "{'max_depth': 3, 'min_samples_split': 2}"
            ]
          },
          "metadata": {},
          "execution_count": 12
        }
      ]
    },
    {
      "cell_type": "code",
      "source": [
        "#베스트 스코어\n",
        "grid_dt.best_score_"
      ],
      "metadata": {
        "colab": {
          "base_uri": "https://localhost:8080/"
        },
        "id": "8zgEoXAzzRQo",
        "outputId": "6032cb04-3bff-4c34-e17b-1b2e24e012e4"
      },
      "execution_count": 13,
      "outputs": [
        {
          "output_type": "execute_result",
          "data": {
            "text/plain": [
              "0.9916666666666666"
            ]
          },
          "metadata": {},
          "execution_count": 13
        }
      ]
    },
    {
      "cell_type": "code",
      "source": [
        "#최적의 분류기\n",
        "# dtc_best= DecisionTreeClassifier(max_depth=3, min_samples_split=2, random_state=2022)\n",
        "dtc_best = grid_dt.best_estimator_"
      ],
      "metadata": {
        "id": "M4Udu_2yzRY3"
      },
      "execution_count": 14,
      "outputs": []
    },
    {
      "cell_type": "code",
      "source": [
        "#최적의 분류기로 예측 및 평가\n",
        "dtc_best.score(X_test,y_test)"
      ],
      "metadata": {
        "colab": {
          "base_uri": "https://localhost:8080/"
        },
        "id": "lhP4HoB67zuN",
        "outputId": "5a7a0385-8206-4a54-e6b5-6417e1812fc5"
      },
      "execution_count": 15,
      "outputs": [
        {
          "output_type": "execute_result",
          "data": {
            "text/plain": [
              "0.9333333333333333"
            ]
          },
          "metadata": {},
          "execution_count": 15
        }
      ]
    },
    {
      "cell_type": "markdown",
      "source": [
        "- SVM 사례"
      ],
      "metadata": {
        "id": "PMavp_ZH752t"
      }
    },
    {
      "cell_type": "code",
      "source": [
        "from sklearn.svm import SVC\n",
        "svc = SVC(random_state=2022)\n",
        "svc.get_params()"
      ],
      "metadata": {
        "colab": {
          "base_uri": "https://localhost:8080/"
        },
        "id": "oP1nqzMb8PI5",
        "outputId": "b50403ad-175c-49ce-f5b1-0721324b8812"
      },
      "execution_count": 16,
      "outputs": [
        {
          "output_type": "execute_result",
          "data": {
            "text/plain": [
              "{'C': 1.0,\n",
              " 'break_ties': False,\n",
              " 'cache_size': 200,\n",
              " 'class_weight': None,\n",
              " 'coef0': 0.0,\n",
              " 'decision_function_shape': 'ovr',\n",
              " 'degree': 3,\n",
              " 'gamma': 'scale',\n",
              " 'kernel': 'rbf',\n",
              " 'max_iter': -1,\n",
              " 'probability': False,\n",
              " 'random_state': 2022,\n",
              " 'shrinking': True,\n",
              " 'tol': 0.001,\n",
              " 'verbose': False}"
            ]
          },
          "metadata": {},
          "execution_count": 16
        }
      ]
    },
    {
      "cell_type": "code",
      "source": [
        "params = {'C':[0.01,0.1,1,10,100]}\n",
        "grid_sv = GridSearchCV(svc,params,scoring='accuracy',cv=5)"
      ],
      "metadata": {
        "id": "9NLe3rAi8-Ap"
      },
      "execution_count": 17,
      "outputs": []
    },
    {
      "cell_type": "code",
      "source": [
        "grid_sv.fit(X_train,y_train)\n",
        "grid_sv.best_params_"
      ],
      "metadata": {
        "colab": {
          "base_uri": "https://localhost:8080/"
        },
        "id": "yve9D5xE9F1n",
        "outputId": "3df94146-ee00-4010-beae-4bb367c83a49"
      },
      "execution_count": 19,
      "outputs": [
        {
          "output_type": "execute_result",
          "data": {
            "text/plain": [
              "{'C': 1}"
            ]
          },
          "metadata": {},
          "execution_count": 19
        }
      ]
    },
    {
      "cell_type": "code",
      "source": [
        "# 범위를 좁혀가면서 파라메터를 찾음\n",
        "params = {'C':[0.2,0.6,1,4,8]}\n",
        "grid_sv = GridSearchCV(svc,params,scoring='accuracy',cv=5)"
      ],
      "metadata": {
        "id": "t9vrubnG9OVz"
      },
      "execution_count": 20,
      "outputs": []
    },
    {
      "cell_type": "code",
      "source": [
        "grid_sv.fit(X_train,y_train)\n",
        "grid_sv.best_params_"
      ],
      "metadata": {
        "colab": {
          "base_uri": "https://localhost:8080/"
        },
        "id": "wd7ysWyU9gmQ",
        "outputId": "a4b649af-d589-4933-c3f2-ae9b8ce3c2b5"
      },
      "execution_count": 21,
      "outputs": [
        {
          "output_type": "execute_result",
          "data": {
            "text/plain": [
              "{'C': 4}"
            ]
          },
          "metadata": {},
          "execution_count": 21
        }
      ]
    },
    {
      "cell_type": "code",
      "source": [
        "# 범위를 좁혀가면서 파라메터를 찾음\n",
        "params = {'C':[2,3,4,5,6]}\n",
        "grid_sv = GridSearchCV(svc,params,scoring='accuracy',cv=5)"
      ],
      "metadata": {
        "id": "f2Nt-_nq9i7e"
      },
      "execution_count": 22,
      "outputs": []
    },
    {
      "cell_type": "code",
      "source": [
        "grid_sv.fit(X_train,y_train)\n",
        "grid_sv.best_params_"
      ],
      "metadata": {
        "colab": {
          "base_uri": "https://localhost:8080/"
        },
        "id": "FnPpfV9y9rFP",
        "outputId": "1e583715-deac-4172-8980-2760f754d736"
      },
      "execution_count": 23,
      "outputs": [
        {
          "output_type": "execute_result",
          "data": {
            "text/plain": [
              "{'C': 4}"
            ]
          },
          "metadata": {},
          "execution_count": 23
        }
      ]
    },
    {
      "cell_type": "code",
      "source": [
        "svc_best = grid_sv.best_estimator_\n",
        "svc_best.score(X_test,y_test)"
      ],
      "metadata": {
        "colab": {
          "base_uri": "https://localhost:8080/"
        },
        "id": "oIvTwYor9sQb",
        "outputId": "c58c4dc0-67dd-4239-cfc5-348d239660a3"
      },
      "execution_count": 24,
      "outputs": [
        {
          "output_type": "execute_result",
          "data": {
            "text/plain": [
              "0.9666666666666667"
            ]
          },
          "metadata": {},
          "execution_count": 24
        }
      ]
    },
    {
      "cell_type": "code",
      "source": [
        ""
      ],
      "metadata": {
        "id": "WTwJB9qv-ByP"
      },
      "execution_count": null,
      "outputs": []
    }
  ]
}